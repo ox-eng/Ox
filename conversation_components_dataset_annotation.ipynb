{
  "nbformat": 4,
  "nbformat_minor": 0,
  "metadata": {
    "colab": {
      "name": "Copy of Copy of conversation-components-dataset-annotation.ipynb",
      "provenance": [],
      "collapsed_sections": [],
      "include_colab_link": true
    },
    "kernelspec": {
      "name": "python3",
      "display_name": "Python 3"
    },
    "language_info": {
      "name": "python"
    }
  },
  "cells": [
    {
      "cell_type": "markdown",
      "metadata": {
        "id": "view-in-github",
        "colab_type": "text"
      },
      "source": [
        "<a href=\"https://colab.research.google.com/github/ox-eng/ox/blob/main/conversation_components_dataset_annotation.ipynb\" target=\"_parent\"><img src=\"https://colab.research.google.com/assets/colab-badge.svg\" alt=\"Open In Colab\"/></a>"
      ]
    },
    {
      "cell_type": "code",
      "source": [
        "###Sample text entries per label\n",
        "\n",
        "opener = ['Good morning!', 'Hi, how are you?', 'Hi, how are you doing today?', 'Hello!', 'Hi!']\n",
        "appreciation = ['Thank you for the follow up.', 'Thanks for reaching out.', 'I appreciate you taking my call.', 'Thank you for your patience.']\n",
        "apologize = ['I am so sorry for the delay,', 'I apologize, I completely forgot.',  'I am so sorry about that.', 'I am so sorry you are still dealing with that issue.' ]\n",
        "close = [ 'Have a great rest of your day!', 'Thank you!', 'Please let me know if you have any questions or concerns']"
      ],
      "metadata": {
        "id": "ZXDbJbvjjs4m"
      },
      "execution_count": 1,
      "outputs": []
    },
    {
      "cell_type": "code",
      "source": [
        "###Sample text entries for positive feedback\n",
        "pos_feedback_1 = ['I just wanted to say that you did an amazing job delivering that project earlier this week. I really like the way that you included all the information and made sure that it was presented quickly and seamlessly.',\n",
        "            'I just wanted to say I was impressed with your confidence and product knowledge during our call this morning! You were able to assist the client with their concerns and they even provided a very positive feedback after.',\n",
        "           'Just want to say, great job on the off-boarding project, you really did fantastic work. You created a clear project plan, talked to all the necessary stakeholders and you reviewed it with the stakeholders who needed to make the final decision. You were very clear, very thorough, and your presentation included all the necessary details.']\n",
        "\n",
        "motivate = ['Keep up the good work!', \n",
        "            'Just keep doing what you are doing! I can not wait to see what you accomplish.',\n",
        "            'Keep up the good work, maintain that same work ethic, and you will definitely smash your targets this year.', \n",
        "            'If you continue doing this, I am sure you will hit your milestones for this next quarter.',\n",
        "            'So continue keeping up the hard work and I can not wait to see what you have in your future. You are definitely on the right path and you are going to continue to do great things for this team.']"
      ],
      "metadata": {
        "id": "bWas5A25pDaQ"
      },
      "execution_count": 19,
      "outputs": []
    },
    {
      "cell_type": "code",
      "source": [
        "###Sample text entries for PandaDoc Templates\n",
        "pd_open_solution = [\"Thank you for taking the time to talk about PandaDoc templates.\",\n",
        "                 \"I am so excited to go through and highlight the benefits of our template feature!\",\n",
        "                 \"Hi! I can't wait to lead you through this first training. First up on the agenda is the features in our templates.\",\n",
        "                 \"Hi! Thank you for taking the time to go over PandaDoc templates!\"]\n",
        "\n",
        "pd_solution = [\"Our template features enable you to set up your contracts one time, then just drag and drop and switch out information that's appropriate for your customer or for your prospect. If you want to change the pricing table or you you want to use approved language about your latest feature, you can do that really easily.\",\n",
        "            \"When you use a template, basically, you enter in all of the information you want to share just one time. Then it's drag-and-drop. So you can pull a paragraph of marketing language, you can pull product benefits, you can customize pricing for different scenarios all one time and then that template can be used again and again.\",\n",
        "            \"Templates can also be editable on a master template. So once you click create document, you can just add contents to an existing package, so you don't have to create it from scratch.\",\n",
        "            \"Pandadoc templates are a really cool feature, because they enable you to set up your contracts one time and then just drag and drop and switch out information that's appropriate for your customer or for your prospect. So if I want to change the pricing table, or I want to pull in marketing approved language on how we're talking about our latest feature. I can do that really easily. I can also change the language, currency, or pricing for different scenarios as well.\"]\n",
        "\n",
        "pd_value_prop = [\"These help you streamline the paperwork process, save a ton of time, and stay smart about the status of your deals.\",\n",
        "              \"Templates are great because they help you cut time on document creation so that you can devote that time to other areas, increasing productivity and other metrics as well! One of our newer customers saw proposal timeline reduced by 75%!\",\n",
        "              \"One of the biggest benefits is that it shortens the sales cycle. So you can get your deals out really quickly and generate the revenue that you're being held accountable for.\",\n",
        "              \"Templates save everyone time bystreamlining the document creation so there aren’t multiple versions of the same document, and it helps you stay consistent aligning to your brand.\"]\n",
        "\n",
        "pd_questions = [\"What impact do you think this would have on your sales process?\",\n",
        "                      \"Do you have any questions on how you can use templates to streamline your document creation and address some of your pain points?\",\n",
        "                      \"Would you like to go over a specific use case?\"]"
      ],
      "metadata": {
        "id": "qnl0NWagqrQV"
      },
      "execution_count": 14,
      "outputs": []
    },
    {
      "cell_type": "code",
      "source": [
        "import itertools\n",
        "from itertools import permutations\n",
        "import pandas as pd\n",
        "import numpy as np"
      ],
      "metadata": {
        "id": "wgSpUDNtnQdh"
      },
      "execution_count": 3,
      "outputs": []
    },
    {
      "cell_type": "code",
      "source": [
        "#getting all unique values from a list\n",
        "def unique(b):\n",
        "    b = np.array(b)"
      ],
      "metadata": {
        "id": "0Y4CJg4AnUAH"
      },
      "execution_count": 4,
      "outputs": []
    },
    {
      "cell_type": "code",
      "source": [
        "#Combining every combination of 2 labels\n",
        "a = []\n",
        "\n",
        "d = [list(zip(x,pos_feedback_1)) for x in itertools.permutations(opener,len(pos_feedback_1))]\n",
        "#will return a list of tuples\n",
        "\n",
        "#join the tuples as one string\n",
        "for i in d:\n",
        "    e = [' '.join(tups) for tups in i]\n",
        "    a.append(e)\n",
        "#will return list of lists, containing each combination\n",
        "\n",
        "#combining the list of lists into one list of strings\n",
        "f = list(itertools.chain(*a))\n",
        "\n",
        "#getting the unique values in the list\n",
        "#len should be equal to the product of the number of entries in each label\n",
        "g = np.unique(f)\n",
        "\n",
        "print(len(g))\n",
        "print(g[:5])"
      ],
      "metadata": {
        "colab": {
          "base_uri": "https://localhost:8080/"
        },
        "id": "IGJnBd4PnV59",
        "outputId": "0e06bb92-0681-41d7-b84a-178994d4a3cd"
      },
      "execution_count": 20,
      "outputs": [
        {
          "output_type": "stream",
          "name": "stdout",
          "text": [
            "15\n",
            "['Good morning! I just wanted to say I was impressed with your confidence and product knowledge during our call this morning! You were able to assist the client with their concerns and they even provided a very positive feedback after.'\n",
            " 'Good morning! I just wanted to say that you did an amazing job delivering that project earlier this week. I really like the way that you included all the information and made sure that it was presented quickly and seamlessly.'\n",
            " 'Good morning! Just want to say, great job on the off-boarding project, you really did fantastic work. You created a clear project plan, talked to all the necessary stakeholders and you reviewed it with the stakeholders who needed to make the final decision. You were very clear, very thorough, and your presentation included all the necessary details.'\n",
            " 'Hello! I just wanted to say I was impressed with your confidence and product knowledge during our call this morning! You were able to assist the client with their concerns and they even provided a very positive feedback after.'\n",
            " 'Hello! I just wanted to say that you did an amazing job delivering that project earlier this week. I really like the way that you included all the information and made sure that it was presented quickly and seamlessly.']\n"
          ]
        }
      ]
    },
    {
      "cell_type": "code",
      "source": [
        "###Combining every combination of 3 labels\n",
        "a = []\n",
        "b = []\n",
        "\n",
        "d = [list(zip(x,pos_feedback_1)) for x in itertools.permutations(opener,len(pos_feedback_1))]\n",
        "\n",
        "for i in d:\n",
        "    e = [' '.join(tups) for tups in i]\n",
        "    a.append(e)\n",
        "\n",
        "f = list(itertools.chain(*a))\n",
        "\n",
        "g = np.unique(f)\n",
        "\n",
        "\n",
        "h = [list(zip(x,motivate)) for x in itertools.permutations(g #use only the unique values to combine with the new label\n",
        "                                                         ,len(motivate))]\n",
        "for i in h:\n",
        "    j = [' '.join(tups) for tups in i]\n",
        "    b.append(j)\n",
        "\n",
        "k = list(itertools.chain(*b))\n",
        "\n",
        "l = np.unique(k)\n",
        "\n",
        "print(len(l))\n",
        "print(l[:5])"
      ],
      "metadata": {
        "colab": {
          "base_uri": "https://localhost:8080/"
        },
        "id": "doZedFFanX4h",
        "outputId": "171ae671-0886-49b7-e56b-71f0a0e9ca7b"
      },
      "execution_count": 21,
      "outputs": [
        {
          "output_type": "stream",
          "name": "stdout",
          "text": [
            "75\n",
            "['Good morning! I just wanted to say I was impressed with your confidence and product knowledge during our call this morning! You were able to assist the client with their concerns and they even provided a very positive feedback after. If you continue doing this, I am sure you will hit your milestones for this next quarter.'\n",
            " 'Good morning! I just wanted to say I was impressed with your confidence and product knowledge during our call this morning! You were able to assist the client with their concerns and they even provided a very positive feedback after. Just keep doing what you are doing! I can not wait to see what you accomplish.'\n",
            " 'Good morning! I just wanted to say I was impressed with your confidence and product knowledge during our call this morning! You were able to assist the client with their concerns and they even provided a very positive feedback after. Keep up the good work!'\n",
            " 'Good morning! I just wanted to say I was impressed with your confidence and product knowledge during our call this morning! You were able to assist the client with their concerns and they even provided a very positive feedback after. Keep up the good work, maintain that same work ethic, and you will definitely smash your targets this year.'\n",
            " 'Good morning! I just wanted to say I was impressed with your confidence and product knowledge during our call this morning! You were able to assist the client with their concerns and they even provided a very positive feedback after. So continue keeping up the hard work and I can not wait to see what you have in your future. You are definitely on the right path and you are going to continue to do great things for this team.']\n"
          ]
        }
      ]
    },
    {
      "cell_type": "code",
      "source": [
        "###Combining every combination of 4 labels\n",
        "a = []\n",
        "b = []\n",
        "c = []\n",
        "\n",
        "d = [list(zip(x,pd_solution)) for x in itertools.permutations(pd_open_solution,len(pd_solution))]\n",
        "\n",
        "for i in d:\n",
        "    e = [' '.join(tups) for tups in i]\n",
        "    a.append(e)\n",
        "\n",
        "f = list(itertools.chain(*a))\n",
        "\n",
        "g = np.unique(f)\n",
        "\n",
        "\n",
        "h = [list(zip(x,pd_value_prop)) for x in itertools.permutations(g,len(pd_value_prop))]\n",
        "for i in h:\n",
        "    j = [' '.join(tups) for tups in i]\n",
        "    b.append(j)\n",
        "\n",
        "k = list(itertools.chain(*b))\n",
        "\n",
        "l = np.unique(k)\n",
        "\n",
        "\n",
        "m = [list(zip(x,pd_questions)) for x in itertools.permutations(l,len(pd_questions))]\n",
        "for i in m:\n",
        "    n = [' '.join(tups) for tups in i]\n",
        "    c.append(n)\n",
        "\n",
        "o = list(itertools.chain(*c))\n",
        "\n",
        "p = np.unique(o)\n",
        "\n",
        "\n",
        "\n",
        "\n",
        "print(len(p))\n",
        "    \n",
        "print(p[:5])"
      ],
      "metadata": {
        "colab": {
          "base_uri": "https://localhost:8080/"
        },
        "id": "O-NVPI7rnaa1",
        "outputId": "c54f85b9-9e75-421c-8d7b-753ab199d11b"
      },
      "execution_count": 15,
      "outputs": [
        {
          "output_type": "stream",
          "name": "stdout",
          "text": [
            "192\n",
            "[\"Hi! I can't wait to lead you through this first training. First up on the agenda is the features in our templates. Our template features enable you to set up your contracts one time, then just drag and drop and switch out information that's appropriate for your customer or for your prospect. If you want to change the pricing table or you you want to use approved language about your latest feature, you can do that really easily. One of the biggest benefits is that it shortens the sales cycle. So you can get your deals out really quickly and generate the revenue that you're being held accountable for. Do you have any questions on how you can use templates to streamline your document creation and address some of your pain points?\"\n",
            " \"Hi! I can't wait to lead you through this first training. First up on the agenda is the features in our templates. Our template features enable you to set up your contracts one time, then just drag and drop and switch out information that's appropriate for your customer or for your prospect. If you want to change the pricing table or you you want to use approved language about your latest feature, you can do that really easily. One of the biggest benefits is that it shortens the sales cycle. So you can get your deals out really quickly and generate the revenue that you're being held accountable for. What impact do you think this would have on your sales process?\"\n",
            " \"Hi! I can't wait to lead you through this first training. First up on the agenda is the features in our templates. Our template features enable you to set up your contracts one time, then just drag and drop and switch out information that's appropriate for your customer or for your prospect. If you want to change the pricing table or you you want to use approved language about your latest feature, you can do that really easily. One of the biggest benefits is that it shortens the sales cycle. So you can get your deals out really quickly and generate the revenue that you're being held accountable for. Would you like to go over a specific use case?\"\n",
            " \"Hi! I can't wait to lead you through this first training. First up on the agenda is the features in our templates. Our template features enable you to set up your contracts one time, then just drag and drop and switch out information that's appropriate for your customer or for your prospect. If you want to change the pricing table or you you want to use approved language about your latest feature, you can do that really easily. Templates are great because they help you cut time on document creation so that you can devote that time to other areas, increasing productivity and other metrics as well! One of our newer customers saw proposal timeline reduced by 75%! Do you have any questions on how you can use templates to streamline your document creation and address some of your pain points?\"\n",
            " \"Hi! I can't wait to lead you through this first training. First up on the agenda is the features in our templates. Our template features enable you to set up your contracts one time, then just drag and drop and switch out information that's appropriate for your customer or for your prospect. If you want to change the pricing table or you you want to use approved language about your latest feature, you can do that really easily. Templates are great because they help you cut time on document creation so that you can devote that time to other areas, increasing productivity and other metrics as well! One of our newer customers saw proposal timeline reduced by 75%! What impact do you think this would have on your sales process?\"]\n"
          ]
        }
      ]
    },
    {
      "cell_type": "code",
      "source": [
        "dict = {'entry': p #final list}\n",
        "       \n",
        "df = pd.DataFrame(dict) \n",
        "df.to_csv(#name of csv, index = False) "
      ],
      "metadata": {
        "id": "EHyEDqgdnduz"
      },
      "execution_count": null,
      "outputs": []
    },
    {
      "cell_type": "code",
      "source": [
        "###Follow process if want to use template with 5, 6, 7+ labels"
      ],
      "metadata": {
        "id": "fLb9TrJZn4mh"
      },
      "execution_count": null,
      "outputs": []
    }
  ]
}